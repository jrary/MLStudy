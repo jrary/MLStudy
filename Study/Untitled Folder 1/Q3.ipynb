{
 "cells": [
  {
   "cell_type": "code",
   "execution_count": null,
   "id": "1c4726cc",
   "metadata": {},
   "outputs": [],
   "source": [
    "import pandas as pd\n",
    "import numpy as np\n",
    "import seaborn as sns\n",
    "import matplotlib.pyplot as plt\n",
    "\n",
    "# 한글폰트 사용을 위해 설치\n",
    "# 아래 모듈을 설치하고 불러오면 별도의 한글폰트 설정이 필요 없습니다.\n",
    "# !pip install koreanize-matplotlib\n",
    "\n",
    "import koreanize_matplotlib\n",
    "\n",
    "df_raw = pd.read_csv(\n",
    "    \"https://raw.githubusercontent.com/corazzon/boostcourse-ds-510/master/data/online_oversea_sale_202210.csv.zip\", \n",
    "    encoding=\"cp949\")"
   ]
  }
 ],
 "metadata": {
  "kernelspec": {
   "display_name": "Python 3 (ipykernel)",
   "language": "python",
   "name": "python3"
  },
  "language_info": {
   "codemirror_mode": {
    "name": "ipython",
    "version": 3
   },
   "file_extension": ".py",
   "mimetype": "text/x-python",
   "name": "python",
   "nbconvert_exporter": "python",
   "pygments_lexer": "ipython3",
   "version": "3.9.12"
  }
 },
 "nbformat": 4,
 "nbformat_minor": 5
}
